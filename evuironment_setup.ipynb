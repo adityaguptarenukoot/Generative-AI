{
 "cells": [
  {
   "cell_type": "markdown",
   "id": "2466fa90",
   "metadata": {},
   "source": [
    "## 1-Google API"
   ]
  },
  {
   "cell_type": "markdown",
   "id": "f7d0c089",
   "metadata": {},
   "source": [
    "from langchain_google_genai import ChatGoogleGenerativeAI\n",
    "\n",
    "# API key here\n",
    "api_key = \"your_api_key\"\n",
    "\n",
    "# Load model\n",
    "prompt = ChatGoogleGenerativeAI(\n",
    "    model=\"gemini-2.5-flash\",\n",
    "    google_api_key=api_key\n",
    ")\n",
    "\n",
    "# User query\n",
    "question = \"what is apple\"\n",
    "response = prompt.invoke(question).content\n",
    "print(response)\n"
   ]
  },
  {
   "cell_type": "markdown",
   "id": "89909de6",
   "metadata": {},
   "source": [
    "from langchain_google_genai import ChatGoogleGenerativeAI\n",
    "import os \n",
    "from dotenv import load_dotenv\n",
    "\n",
    "# load env\n",
    "load_dotenv()\n",
    "\n",
    "# load model \n",
    "model = ChatGoogleGenerativeAI(model='gemini-1.5-flash', google_api_key=os.getenv('GOOGLE_API_KEY'))\n",
    "\n",
    "# user query \n",
    "\n",
    "user_query = \"How far eartch is from sun\"\n",
    "\n",
    "output = model.invoke(user_query).content\n",
    "\n",
    "print(output)"
   ]
  },
  {
   "cell_type": "markdown",
   "id": "e5d82672",
   "metadata": {},
   "source": [
    "## 2-Openai API"
   ]
  },
  {
   "cell_type": "markdown",
   "id": "618e1945",
   "metadata": {},
   "source": [
    "from langchain_openai import ChatOpenAI\n",
    "from dotenv import load_dotenv\n",
    "import os\n",
    "\n",
    "# Load API key from .env\n",
    "load_dotenv()\n",
    "\n",
    "# Initialize model\n",
    "model = ChatOpenAI(\n",
    "    model='gpt-4o',\n",
    "    temperature=1.5,\n",
    "    max_completion_tokens=10,\n",
    "    api_key=os.getenv(\"OPENAI_API_KEY\") \n",
    ")\n",
    "\n",
    "# Invoke\n",
    "result = model.invoke(\"What is a black hole?\")\n",
    "print(result.content)\n"
   ]
  },
  {
   "cell_type": "markdown",
   "id": "1d196d81",
   "metadata": {},
   "source": [
    "pip install langchain-openai"
   ]
  },
  {
   "cell_type": "markdown",
   "id": "fe0a47c4",
   "metadata": {},
   "source": [
    "## 3- Antrophic API"
   ]
  },
  {
   "cell_type": "code",
   "execution_count": null,
   "id": "b555f586",
   "metadata": {},
   "outputs": [
    {
     "name": "stdout",
     "output_type": "stream",
     "text": [
      "Collecting anthropic\n",
      "  Downloading anthropic-0.62.0-py3-none-any.whl.metadata (27 kB)\n",
      "Requirement already satisfied: anyio<5,>=3.5.0 in /Users/vijaygupta/Documents/MLOPS/gen ai noor/ep-1/myenv/lib/python3.13/site-packages (from anthropic) (4.10.0)\n",
      "Requirement already satisfied: distro<2,>=1.7.0 in /Users/vijaygupta/Documents/MLOPS/gen ai noor/ep-1/myenv/lib/python3.13/site-packages (from anthropic) (1.9.0)\n",
      "Requirement already satisfied: httpx<1,>=0.25.0 in /Users/vijaygupta/Documents/MLOPS/gen ai noor/ep-1/myenv/lib/python3.13/site-packages (from anthropic) (0.28.1)\n",
      "Requirement already satisfied: jiter<1,>=0.4.0 in /Users/vijaygupta/Documents/MLOPS/gen ai noor/ep-1/myenv/lib/python3.13/site-packages (from anthropic) (0.10.0)\n",
      "Requirement already satisfied: pydantic<3,>=1.9.0 in /Users/vijaygupta/Documents/MLOPS/gen ai noor/ep-1/myenv/lib/python3.13/site-packages (from anthropic) (2.11.7)\n",
      "Requirement already satisfied: sniffio in /Users/vijaygupta/Documents/MLOPS/gen ai noor/ep-1/myenv/lib/python3.13/site-packages (from anthropic) (1.3.1)\n",
      "Requirement already satisfied: typing-extensions<5,>=4.10 in /Users/vijaygupta/Documents/MLOPS/gen ai noor/ep-1/myenv/lib/python3.13/site-packages (from anthropic) (4.14.1)\n",
      "Requirement already satisfied: idna>=2.8 in /Users/vijaygupta/Documents/MLOPS/gen ai noor/ep-1/myenv/lib/python3.13/site-packages (from anyio<5,>=3.5.0->anthropic) (3.10)\n",
      "Requirement already satisfied: certifi in /Users/vijaygupta/Documents/MLOPS/gen ai noor/ep-1/myenv/lib/python3.13/site-packages (from httpx<1,>=0.25.0->anthropic) (2025.8.3)\n",
      "Requirement already satisfied: httpcore==1.* in /Users/vijaygupta/Documents/MLOPS/gen ai noor/ep-1/myenv/lib/python3.13/site-packages (from httpx<1,>=0.25.0->anthropic) (1.0.9)\n",
      "Requirement already satisfied: h11>=0.16 in /Users/vijaygupta/Documents/MLOPS/gen ai noor/ep-1/myenv/lib/python3.13/site-packages (from httpcore==1.*->httpx<1,>=0.25.0->anthropic) (0.16.0)\n",
      "Requirement already satisfied: annotated-types>=0.6.0 in /Users/vijaygupta/Documents/MLOPS/gen ai noor/ep-1/myenv/lib/python3.13/site-packages (from pydantic<3,>=1.9.0->anthropic) (0.7.0)\n",
      "Requirement already satisfied: pydantic-core==2.33.2 in /Users/vijaygupta/Documents/MLOPS/gen ai noor/ep-1/myenv/lib/python3.13/site-packages (from pydantic<3,>=1.9.0->anthropic) (2.33.2)\n",
      "Requirement already satisfied: typing-inspection>=0.4.0 in /Users/vijaygupta/Documents/MLOPS/gen ai noor/ep-1/myenv/lib/python3.13/site-packages (from pydantic<3,>=1.9.0->anthropic) (0.4.1)\n",
      "Downloading anthropic-0.62.0-py3-none-any.whl (296 kB)\n",
      "Installing collected packages: anthropic\n",
      "Successfully installed anthropic-0.62.0\n",
      "\n",
      "\u001b[1m[\u001b[0m\u001b[34;49mnotice\u001b[0m\u001b[1;39;49m]\u001b[0m\u001b[39;49m A new release of pip is available: \u001b[0m\u001b[31;49m25.1.1\u001b[0m\u001b[39;49m -> \u001b[0m\u001b[32;49m25.2\u001b[0m\n",
      "\u001b[1m[\u001b[0m\u001b[34;49mnotice\u001b[0m\u001b[1;39;49m]\u001b[0m\u001b[39;49m To update, run: \u001b[0m\u001b[32;49mpip install --upgrade pip\u001b[0m\n",
      "Note: you may need to restart the kernel to use updated packages.\n"
     ]
    }
   ],
   "source": [
    "pip install anthropic\n"
   ]
  },
  {
   "cell_type": "markdown",
   "id": "eadaf2aa",
   "metadata": {},
   "source": [
    "import anthropic\n",
    "import os\n",
    "\n",
    "# Create a client\n",
    "client = anthropic.Anthropic(api_key=os.environ[\"ANTHROPIC_API_KEY\"])\n",
    "\n",
    "# Ask Claude something\n",
    "response = client.messages.create(\n",
    "    model=\"claude-3-opus-20240229\",  # You can use claude-3-sonnet for cheaper option\n",
    "    max_tokens=200,\n",
    "    messages=[\n",
    "        {\"role\": \"user\", \"content\": \"Hello Claude, how are you?\"}\n",
    "    ]\n",
    ")\n",
    "\n",
    "print(response.content[0].text)"
   ]
  },
  {
   "cell_type": "markdown",
   "id": "9f67de08",
   "metadata": {},
   "source": []
  }
 ],
 "metadata": {
  "kernelspec": {
   "display_name": "myenv",
   "language": "python",
   "name": "python3"
  },
  "language_info": {
   "codemirror_mode": {
    "name": "ipython",
    "version": 3
   },
   "file_extension": ".py",
   "mimetype": "text/x-python",
   "name": "python",
   "nbconvert_exporter": "python",
   "pygments_lexer": "ipython3",
   "version": "3.13.5"
  }
 },
 "nbformat": 4,
 "nbformat_minor": 5
}
